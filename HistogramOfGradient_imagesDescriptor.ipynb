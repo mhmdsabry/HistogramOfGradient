{
 "cells": [
  {
   "cell_type": "code",
   "execution_count": 1,
   "metadata": {
    "collapsed": true
   },
   "outputs": [],
   "source": [
    "\n",
    "import numpy as np \n",
    "from numpy.linalg import norm\n",
    "from scipy import signal\n",
    "from scipy.misc import imread\n"
   ]
  },
  {
   "cell_type": "code",
   "execution_count": 4,
   "metadata": {
    "collapsed": true
   },
   "outputs": [],
   "source": [
    "\n",
    "img = imread('img_url',mode='L')\n",
    "   \n",
    "kernel_fx = np.array([[-1,0,1]])\n",
    "fx_img = signal.convolve2d(img,kernel_fx,boundary='symm',mode='same')\n",
    "    \n",
    "kernel_fy = np.array([[-1,0,1]]).T\n",
    "fy_img = signal.convolve2d(img,kernel_fy,boundary='symm',mode='same')\n",
    "\n",
    "    \n"
   ]
  },
  {
   "cell_type": "code",
   "execution_count": null,
   "metadata": {
    "collapsed": true
   },
   "outputs": [],
   "source": [
    "N_bins = 9\n",
    "cell_size = 8\n",
    "block_size = 2\n",
    "\n",
    "def vote_interplotation(magnitude,direction,bin_values):\n",
    "    if direction%20 == 0:\n",
    "        bin_values[direction/20] = magnitude\n",
    "    else:\n",
    "        left_bin = direction //20\n",
    "        right_bin = left_bin + 1\n",
    "        distribution_perc = direction%20/20\n",
    "        bin_values[right_bin] = distribution_perc * mangnitude\n",
    "        bin_values[left_bin] = magnitude - distribution_perc * mangnitude\n",
    "    "
   ]
  },
  {
   "cell_type": "code",
   "execution_count": null,
   "metadata": {
    "collapsed": true
   },
   "outputs": [],
   "source": [
    "def histogram_of_cell(loc_x,loc_y):\n",
    "    cell_x = fx_img[locx:locx+cell_size,locy:locy+cell_size]\n",
    "    cell_y = fy_img[locx:locx+cell_size,locy:locy+cell_size]\n",
    "    magnitude = np.sqrt(cell_x**2 + cell_y**2)\n",
    "    angle = np.arctan(cell_y/cell_x)\n",
    "    direction = angle-180*(angle/180)\n",
    "    \n",
    "    Bins = np.linspace(0,180,N_bins+1)\n",
    "    bin_values = np.zeros(N_bins)\n",
    "    \n",
    "    map(\n",
    "        lambda(m,d): vote_interplotation(m,d,bin_values) , zip(magnitude.flatten(),direction.flatten())\n",
    "    )\n",
    "    return bin_values\n",
    "    "
   ]
  },
  {
   "cell_type": "code",
   "execution_count": null,
   "metadata": {
    "collapsed": true
   },
   "outputs": [],
   "source": [
    "def histogram_of_block(loc_x,loc_y):\n",
    "    \n",
    "       block =  np.concatenate(([ histogram_of_cell(x, y) for x, y in zip([loc_x, loc_x + cell_size, loc_x, loc_x + cell_size],\n",
    "            [loc_y, loc_y, loc_y + cell_size, loc_y + cell_size])]))\n",
    "      normalized_block = block / norm(block)\n",
    "      return normalized_block"
   ]
  },
  {
   "cell_type": "markdown",
   "metadata": {},
   "source": [
    "* then itrate throw all location based on your selected block ."
   ]
  },
  {
   "cell_type": "code",
   "execution_count": null,
   "metadata": {
    "collapsed": true
   },
   "outputs": [],
   "source": []
  }
 ],
 "metadata": {
  "kernelspec": {
   "display_name": "Python 3",
   "language": "python",
   "name": "python3"
  },
  "language_info": {
   "codemirror_mode": {
    "name": "ipython",
    "version": 3
   },
   "file_extension": ".py",
   "mimetype": "text/x-python",
   "name": "python",
   "nbconvert_exporter": "python",
   "pygments_lexer": "ipython3",
   "version": "3.6.0"
  }
 },
 "nbformat": 4,
 "nbformat_minor": 2
}
